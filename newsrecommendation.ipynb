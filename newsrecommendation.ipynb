{
 "cells": [
  {
   "cell_type": "markdown",
   "metadata": {},
   "source": [
    "News Recommender"
   ]
  },
  {
   "cell_type": "code",
   "execution_count": 1,
   "metadata": {},
   "outputs": [],
   "source": [
    "# Upload packages\n",
    "import requests\n",
    "import pandas as pd\n",
    "import os"
   ]
  },
  {
   "cell_type": "code",
   "execution_count": 2,
   "metadata": {},
   "outputs": [],
   "source": [
    "# Read JSON objects\n",
    "key = \"3026e0d9c0c94df2ac184e6b103d28c7\"\n",
    "usnewsapi = requests.get(\"https://newsapi.org/v2/top-headlines?country=gb&apiKey=3026e0d9c0c94df2ac184e6b103d28c7\").json()\n"
   ]
  },
  {
   "cell_type": "code",
   "execution_count": 3,
   "metadata": {},
   "outputs": [],
   "source": [
    "# Convert to DataFrame\n",
    "usnews = pd.DataFrame(usnewsapi['articles'])"
   ]
  },
  {
   "cell_type": "code",
   "execution_count": 4,
   "metadata": {},
   "outputs": [
    {
     "data": {
      "text/html": [
       "<div>\n",
       "<style scoped>\n",
       "    .dataframe tbody tr th:only-of-type {\n",
       "        vertical-align: middle;\n",
       "    }\n",
       "\n",
       "    .dataframe tbody tr th {\n",
       "        vertical-align: top;\n",
       "    }\n",
       "\n",
       "    .dataframe thead th {\n",
       "        text-align: right;\n",
       "    }\n",
       "</style>\n",
       "<table border=\"1\" class=\"dataframe\">\n",
       "  <thead>\n",
       "    <tr style=\"text-align: right;\">\n",
       "      <th></th>\n",
       "      <th>source</th>\n",
       "      <th>author</th>\n",
       "      <th>title</th>\n",
       "      <th>description</th>\n",
       "      <th>url</th>\n",
       "      <th>urlToImage</th>\n",
       "      <th>publishedAt</th>\n",
       "      <th>content</th>\n",
       "    </tr>\n",
       "  </thead>\n",
       "  <tbody>\n",
       "    <tr>\n",
       "      <th>0</th>\n",
       "      <td>{'id': None, 'name': 'The Guardian'}</td>\n",
       "      <td>Simon Parkin</td>\n",
       "      <td>Alex Horne on the secret to his cult show Task...</td>\n",
       "      <td>How does the comedian and creative genius come...</td>\n",
       "      <td>https://www.theguardian.com/lifeandstyle/2022/...</td>\n",
       "      <td>https://i.guim.co.uk/img/media/bbfc67819081146...</td>\n",
       "      <td>2022-12-24T12:00:00Z</td>\n",
       "      <td>Alex Horne is sweltering. Taskmaster, the Brit...</td>\n",
       "    </tr>\n",
       "    <tr>\n",
       "      <th>1</th>\n",
       "      <td>{'id': 'financial-times', 'name': 'Financial T...</td>\n",
       "      <td>Steven Bernard, Emiliya Mychasuk</td>\n",
       "      <td>Weather warnings in US as Arctic freeze grips ...</td>\n",
       "      <td>News, analysis and comment from the Financial ...</td>\n",
       "      <td>https://www.ft.com/content/0da5d62c-4abb-4f58-...</td>\n",
       "      <td>None</td>\n",
       "      <td>2022-12-24T10:46:32Z</td>\n",
       "      <td>What is included in my trial?\\r\\nDuring your t...</td>\n",
       "    </tr>\n",
       "    <tr>\n",
       "      <th>2</th>\n",
       "      <td>{'id': 'bbc-news', 'name': 'BBC News'}</td>\n",
       "      <td>https://www.facebook.com/bbcnews</td>\n",
       "      <td>Man arrested after Essex pub assault - BBC</td>\n",
       "      <td>A man dies after reports of an assault at the ...</td>\n",
       "      <td>https://www.bbc.co.uk/news/uk-england-essex-64...</td>\n",
       "      <td>https://ichef.bbci.co.uk/news/1024/branded_new...</td>\n",
       "      <td>2022-12-24T10:34:43Z</td>\n",
       "      <td>A man has been arrested on suspicion of murder...</td>\n",
       "    </tr>\n",
       "  </tbody>\n",
       "</table>\n",
       "</div>"
      ],
      "text/plain": [
       "                                              source  \\\n",
       "0               {'id': None, 'name': 'The Guardian'}   \n",
       "1  {'id': 'financial-times', 'name': 'Financial T...   \n",
       "2             {'id': 'bbc-news', 'name': 'BBC News'}   \n",
       "\n",
       "                             author  \\\n",
       "0                      Simon Parkin   \n",
       "1  Steven Bernard, Emiliya Mychasuk   \n",
       "2  https://www.facebook.com/bbcnews   \n",
       "\n",
       "                                               title  \\\n",
       "0  Alex Horne on the secret to his cult show Task...   \n",
       "1  Weather warnings in US as Arctic freeze grips ...   \n",
       "2         Man arrested after Essex pub assault - BBC   \n",
       "\n",
       "                                         description  \\\n",
       "0  How does the comedian and creative genius come...   \n",
       "1  News, analysis and comment from the Financial ...   \n",
       "2  A man dies after reports of an assault at the ...   \n",
       "\n",
       "                                                 url  \\\n",
       "0  https://www.theguardian.com/lifeandstyle/2022/...   \n",
       "1  https://www.ft.com/content/0da5d62c-4abb-4f58-...   \n",
       "2  https://www.bbc.co.uk/news/uk-england-essex-64...   \n",
       "\n",
       "                                          urlToImage           publishedAt  \\\n",
       "0  https://i.guim.co.uk/img/media/bbfc67819081146...  2022-12-24T12:00:00Z   \n",
       "1                                               None  2022-12-24T10:46:32Z   \n",
       "2  https://ichef.bbci.co.uk/news/1024/branded_new...  2022-12-24T10:34:43Z   \n",
       "\n",
       "                                             content  \n",
       "0  Alex Horne is sweltering. Taskmaster, the Brit...  \n",
       "1  What is included in my trial?\\r\\nDuring your t...  \n",
       "2  A man has been arrested on suspicion of murder...  "
      ]
     },
     "execution_count": 4,
     "metadata": {},
     "output_type": "execute_result"
    }
   ],
   "source": [
    "usnews.head(3)"
   ]
  },
  {
   "cell_type": "code",
   "execution_count": 5,
   "metadata": {},
   "outputs": [
    {
     "data": {
      "text/plain": [
       "(20, 8)"
      ]
     },
     "execution_count": 5,
     "metadata": {},
     "output_type": "execute_result"
    }
   ],
   "source": [
    "usnews.shape"
   ]
  },
  {
   "cell_type": "code",
   "execution_count": 11,
   "metadata": {},
   "outputs": [
    {
     "name": "stdout",
     "output_type": "stream",
     "text": [
      "<class 'pandas.core.frame.DataFrame'>\n",
      "RangeIndex: 20 entries, 0 to 19\n",
      "Data columns (total 8 columns):\n",
      " #   Column       Non-Null Count  Dtype \n",
      "---  ------       --------------  ----- \n",
      " 0   source       20 non-null     object\n",
      " 1   author       19 non-null     object\n",
      " 2   title        20 non-null     object\n",
      " 3   description  19 non-null     object\n",
      " 4   url          20 non-null     object\n",
      " 5   urlToImage   17 non-null     object\n",
      " 6   publishedAt  20 non-null     object\n",
      " 7   content      20 non-null     object\n",
      "dtypes: object(8)\n",
      "memory usage: 1.4+ KB\n"
     ]
    }
   ],
   "source": [
    "usnews.info()"
   ]
  },
  {
   "cell_type": "markdown",
   "metadata": {},
   "source": [
    "Content-Based Recommender"
   ]
  },
  {
   "cell_type": "code",
   "execution_count": 6,
   "metadata": {},
   "outputs": [
    {
     "data": {
      "text/plain": [
       "0    Alex Horne is sweltering. Taskmaster, the Brit...\n",
       "1    What is included in my trial?\\r\\nDuring your t...\n",
       "2    A man has been arrested on suspicion of murder...\n",
       "3    Convicted killer Charles Sobhraj has arrived i...\n",
       "4    Building cars is hard, so when Ben Hedley star...\n",
       "Name: content, dtype: object"
      ]
     },
     "execution_count": 6,
     "metadata": {},
     "output_type": "execute_result"
    }
   ],
   "source": [
    "# Print content description of the first 5 sports news\n",
    "usnews['content'].head()"
   ]
  },
  {
   "cell_type": "code",
   "execution_count": 16,
   "metadata": {},
   "outputs": [],
   "source": [
    "# Import TfidfVectorizer from scikit-learn\n",
    "from sklearn.feature_extraction.text import TfidfVectorizer\n",
    "\n",
    "# Conver to list\n",
    "feature = usnews['title'].tolist()\n",
    "\n",
    "# Define a TF-IDF Vectorizer object. Remove all english stop words\n",
    "tfidf = TfidfVectorizer(input=feature, stop_words='english')\n",
    "\n",
    "# Construct the required TF-IDF matrix by fitting and transform\n",
    "tfidf_matrix = tfidf.fit_transform(feature)\n",
    "\n",
    "# Find the similarity\n",
    "from sklearn.metrics.pairwise import cosine_similarity\n",
    "similarity = cosine_similarity(tfidf_matrix)"
   ]
  },
  {
   "cell_type": "code",
   "execution_count": 18,
   "metadata": {},
   "outputs": [
    {
     "name": "stdout",
     "output_type": "stream",
     "text": [
      "title\n",
      "Alex Horne on the secret to his cult show Taskmaster: ‘It must be offbeat but not wacky, off-kilter but not bonkers’ - The Guardian    0\n",
      "Weather warnings in US as Arctic freeze grips northern hemisphere - Financial Times                                                    1\n",
      "Man arrested after Essex pub assault - BBC                                                                                             2\n",
      "'The Serpent' killer Charles Sobhraj arrives back in France after nearly two decades - Sky News                                        3\n",
      "‘Brilliant fun’: UK automaker shrinks classic cars for big spenders - The Guardian                                                     4\n",
      "Live M25, M1, A1 traffic on Herts motorways as millions set to travel on Christmas Eve - Herts Live                                    5\n",
      "Fire in Russian care home kills 22 people - The Guardian                                                                               6\n",
      "Jonnie Irwin had 'no symptoms before terminal diagnosis' as he plans 'last' Christmas - The Mirror                                     7\n",
      "Woman, 20, killed in block of flats as teen arrested over murder - Liverpool Echo                                                      8\n",
      "White Christmas forecast for Scotland as weather warning issued - BBC                                                                  9\n",
      "dtype: int64\n"
     ]
    }
   ],
   "source": [
    "# Construct a reverse map of indices and article titles\n",
    "indices = pd.Series(usnews.index, index=usnews['title']).drop_duplicates()\n",
    "print(indices[:10])"
   ]
  },
  {
   "cell_type": "code",
   "execution_count": 21,
   "metadata": {},
   "outputs": [
    {
     "name": "stdout",
     "output_type": "stream",
     "text": [
      "2            Man arrested after Essex pub assault - BBC\n",
      "9     White Christmas forecast for Scotland as weath...\n",
      "8     Woman, 20, killed in block of flats as teen ar...\n",
      "12    Transfer news LIVE: Man Utd battle Liverpool o...\n",
      "18    Erik ten Hag responds to Cody Gakpo comment an...\n",
      "0     Alex Horne on the secret to his cult show Task...\n",
      "1     Weather warnings in US as Arctic freeze grips ...\n",
      "3     'The Serpent' killer Charles Sobhraj arrives b...\n",
      "4     ‘Brilliant fun’: UK automaker shrinks classic ...\n",
      "5     Live M25, M1, A1 traffic on Herts motorways as...\n",
      "Name: title, dtype: object\n"
     ]
    }
   ],
   "source": [
    "# Create function that takes in article title as input and output similar articles\n",
    "def news_recommendation(title, similarity=similarity):\n",
    "    # Get the index of the article that matches the title\n",
    "    index = indices[title]\n",
    "\n",
    "    # Get the pairwise similarity scores of all articles\n",
    "    similarity_scores = list(enumerate(similarity[index]))\n",
    "\n",
    "    # Sort the articles based on the similarity scores\n",
    "    similarity_scores = sorted(similarity_scores, key=lambda x: x[1], reverse=True)\n",
    "    \n",
    "    # Get the scores of the 10 most similar articles\n",
    "    similarity_scores = similarity_scores[0:10]\n",
    "\n",
    "    # Get the article indices\n",
    "    article_indices = [i[0] for i in similarity_scores]\n",
    "\n",
    "    # Return the top 10 most similar articls\n",
    "    return usnews['title'].iloc[article_indices]\n",
    "\n",
    "print(news_recommendation(\"Man arrested after Essex pub assault - BBC\"))"
   ]
  }
 ],
 "metadata": {
  "kernelspec": {
   "display_name": "Python 3 (ipykernel)",
   "language": "python",
   "name": "python3"
  },
  "language_info": {
   "codemirror_mode": {
    "name": "ipython",
    "version": 3
   },
   "file_extension": ".py",
   "mimetype": "text/x-python",
   "name": "python",
   "nbconvert_exporter": "python",
   "pygments_lexer": "ipython3",
   "version": "3.9.13"
  },
  "vscode": {
   "interpreter": {
    "hash": "a8d0893271abc68a43a0209414ea8033af38c820dfee29eee943df69b5b16237"
   }
  }
 },
 "nbformat": 4,
 "nbformat_minor": 2
}
